{
  "nbformat": 4,
  "nbformat_minor": 0,
  "metadata": {
    "colab": {
      "name": "Sentiment_RT.ipynb",
      "provenance": [],
      "collapsed_sections": []
    },
    "kernelspec": {
      "name": "python3",
      "display_name": "Python 3"
    },
    "language_info": {
      "name": "python"
    },
    "accelerator": "GPU"
  },
  "cells": [
    {
      "cell_type": "markdown",
      "metadata": {
        "id": "EYTeNYDF6PtT"
      },
      "source": [
        "# Rotten Tomatoes Critic Reviews Sentiment Analysis\n",
        "\n",
        "Aim of this Project is to train a model using the reviews of the critics and utilize the model to understand more about what people are saying about the movie.\n",
        "\n",
        "Dataset: https://www.kaggle.com/stefanoleone992/rotten-tomatoes-movies-and-critic-reviews-dataset"
      ]
    },
    {
      "cell_type": "markdown",
      "metadata": {
        "id": "W4m7qMXM7dRP"
      },
      "source": [
        "## Installing FastAi\n",
        "\n",
        "To perfrom this analysis we will FastAi library."
      ]
    },
    {
      "cell_type": "code",
      "metadata": {
        "id": "_FJPDbd__yKh",
        "colab": {
          "base_uri": "https://localhost:8080/"
        },
        "outputId": "654d3ad3-ff2e-460d-9e20-1c08f83f2c22"
      },
      "source": [
        "! [ -e /content ] && pip install -Uqq fastai"
      ],
      "execution_count": 1,
      "outputs": [
        {
          "output_type": "stream",
          "text": [
            "\u001b[K     |████████████████████████████████| 186 kB 4.2 MB/s \n",
            "\u001b[K     |████████████████████████████████| 56 kB 4.1 MB/s \n",
            "\u001b[?25h"
          ],
          "name": "stdout"
        }
      ]
    },
    {
      "cell_type": "code",
      "metadata": {
        "colab": {
          "base_uri": "https://localhost:8080/"
        },
        "id": "7koVNS-oAyLD",
        "outputId": "d391b49b-70e1-409d-c631-bd531891b5a6"
      },
      "source": [
        "import fastai\n",
        "print(fastai.__version__)"
      ],
      "execution_count": 2,
      "outputs": [
        {
          "output_type": "stream",
          "text": [
            "2.5.2\n"
          ],
          "name": "stdout"
        }
      ]
    },
    {
      "cell_type": "markdown",
      "metadata": {
        "id": "Pf7hTHdB9DaF"
      },
      "source": [
        "## Import Data and Libraries\n",
        "\n",
        "Data used in this notebook is taken from a public dataset off of Kaggle.\n",
        "https://www.kaggle.com/stefanoleone992/rotten-tomatoes-movies-and-critic-reviews-dataset\n",
        "\n",
        "It contains the data scraped from the publicly available website https://www.rottentomatoes.com as of 2020-10-31.\n"
      ]
    },
    {
      "cell_type": "code",
      "metadata": {
        "id": "JkODZs1M6O5s"
      },
      "source": [
        "from fastai.text.all import *\n",
        "import pandas as pd\n",
        "from sklearn.model_selection import train_test_split,StratifiedKFold\n",
        "import matplotlib.pyplot as plt\n",
        "import seaborn as sns\n"
      ],
      "execution_count": 3,
      "outputs": []
    },
    {
      "cell_type": "code",
      "metadata": {
        "id": "Thd1__KR7zWk"
      },
      "source": [
        "df_og=pd.read_csv(\"rotten_tomatoes_critic_reviews.csv\")"
      ],
      "execution_count": 4,
      "outputs": []
    },
    {
      "cell_type": "markdown",
      "metadata": {
        "id": "6zqgsGVc-e3n"
      },
      "source": [
        "## Exploratory Data Analysis"
      ]
    },
    {
      "cell_type": "code",
      "metadata": {
        "id": "sqpjwbRB-X2k",
        "colab": {
          "base_uri": "https://localhost:8080/",
          "height": 293
        },
        "outputId": "b7250e1d-e0fa-40ef-9282-fe9e89594c1d"
      },
      "source": [
        "# Few values from the dataset\n",
        "df_og.head(3)"
      ],
      "execution_count": 168,
      "outputs": [
        {
          "output_type": "execute_result",
          "data": {
            "text/html": [
              "<div>\n",
              "<style scoped>\n",
              "    .dataframe tbody tr th:only-of-type {\n",
              "        vertical-align: middle;\n",
              "    }\n",
              "\n",
              "    .dataframe tbody tr th {\n",
              "        vertical-align: top;\n",
              "    }\n",
              "\n",
              "    .dataframe thead th {\n",
              "        text-align: right;\n",
              "    }\n",
              "</style>\n",
              "<table border=\"1\" class=\"dataframe\">\n",
              "  <thead>\n",
              "    <tr style=\"text-align: right;\">\n",
              "      <th></th>\n",
              "      <th>rotten_tomatoes_link</th>\n",
              "      <th>critic_name</th>\n",
              "      <th>top_critic</th>\n",
              "      <th>publisher_name</th>\n",
              "      <th>review_type</th>\n",
              "      <th>review_score</th>\n",
              "      <th>review_date</th>\n",
              "      <th>review_content</th>\n",
              "    </tr>\n",
              "  </thead>\n",
              "  <tbody>\n",
              "    <tr>\n",
              "      <th>0</th>\n",
              "      <td>m/0814255</td>\n",
              "      <td>Andrew L. Urban</td>\n",
              "      <td>False</td>\n",
              "      <td>Urban Cinefile</td>\n",
              "      <td>Fresh</td>\n",
              "      <td>NaN</td>\n",
              "      <td>2010-02-06</td>\n",
              "      <td>A fantasy adventure that fuses Greek mythology to contemporary American places and values. Anyone around 15 (give or take a couple of years) will thrill to the visual spectacle</td>\n",
              "    </tr>\n",
              "    <tr>\n",
              "      <th>1</th>\n",
              "      <td>m/0814255</td>\n",
              "      <td>Louise Keller</td>\n",
              "      <td>False</td>\n",
              "      <td>Urban Cinefile</td>\n",
              "      <td>Fresh</td>\n",
              "      <td>NaN</td>\n",
              "      <td>2010-02-06</td>\n",
              "      <td>Uma Thurman as Medusa, the gorgon with a coiffure of writhing snakes and stone-inducing hypnotic gaze is one of the highlights of this bewitching fantasy</td>\n",
              "    </tr>\n",
              "    <tr>\n",
              "      <th>2</th>\n",
              "      <td>m/0814255</td>\n",
              "      <td>NaN</td>\n",
              "      <td>False</td>\n",
              "      <td>FILMINK (Australia)</td>\n",
              "      <td>Fresh</td>\n",
              "      <td>NaN</td>\n",
              "      <td>2010-02-09</td>\n",
              "      <td>With a top-notch cast and dazzling special effects, this will tide the teens over until the next Harry Potter instalment.</td>\n",
              "    </tr>\n",
              "  </tbody>\n",
              "</table>\n",
              "</div>"
            ],
            "text/plain": [
              "  rotten_tomatoes_link  ...                                                                                                                                                                    review_content\n",
              "0            m/0814255  ...  A fantasy adventure that fuses Greek mythology to contemporary American places and values. Anyone around 15 (give or take a couple of years) will thrill to the visual spectacle\n",
              "1            m/0814255  ...                         Uma Thurman as Medusa, the gorgon with a coiffure of writhing snakes and stone-inducing hypnotic gaze is one of the highlights of this bewitching fantasy\n",
              "2            m/0814255  ...                                                         With a top-notch cast and dazzling special effects, this will tide the teens over until the next Harry Potter instalment.\n",
              "\n",
              "[3 rows x 8 columns]"
            ]
          },
          "metadata": {},
          "execution_count": 168
        }
      ]
    },
    {
      "cell_type": "code",
      "metadata": {
        "colab": {
          "base_uri": "https://localhost:8080/"
        },
        "id": "ipjgbsOkvU3C",
        "outputId": "aa86797a-a6e8-430a-c429-40f1a939da9e"
      },
      "source": [
        "df_og.isnull().sum()"
      ],
      "execution_count": 171,
      "outputs": [
        {
          "output_type": "execute_result",
          "data": {
            "text/plain": [
              "rotten_tomatoes_link         0\n",
              "critic_name              18529\n",
              "top_critic                   0\n",
              "publisher_name               0\n",
              "review_type                  0\n",
              "review_score            305936\n",
              "review_date                  0\n",
              "review_content           65806\n",
              "dtype: int64"
            ]
          },
          "metadata": {},
          "execution_count": 171
        }
      ]
    },
    {
      "cell_type": "markdown",
      "metadata": {
        "id": "oDRnRv1HvYn8"
      },
      "source": [
        "We see that 65806 of our reviews are empty, we will go ahead and remove these from our further operations."
      ]
    },
    {
      "cell_type": "code",
      "metadata": {
        "id": "j3zjyNn-cAzf"
      },
      "source": [
        "df=df_og.dropna(axis=0, subset=[\"review_content\"])"
      ],
      "execution_count": 6,
      "outputs": []
    },
    {
      "cell_type": "code",
      "metadata": {
        "colab": {
          "base_uri": "https://localhost:8080/"
        },
        "id": "eJKREpO0cSxY",
        "outputId": "e985d398-0bf1-4e0f-fbc8-8f19aeea187f"
      },
      "source": [
        "df.isnull().sum()"
      ],
      "execution_count": 170,
      "outputs": [
        {
          "output_type": "execute_result",
          "data": {
            "text/plain": [
              "rotten_tomatoes_link         0\n",
              "critic_name              10013\n",
              "top_critic                   0\n",
              "publisher_name               0\n",
              "review_type                  0\n",
              "review_score            305502\n",
              "review_date                  0\n",
              "review_content               0\n",
              "dtype: int64"
            ]
          },
          "metadata": {},
          "execution_count": 170
        }
      ]
    },
    {
      "cell_type": "markdown",
      "metadata": {
        "id": "sAscT9vZvg2U"
      },
      "source": [
        "The classes are heavily imbalanced as we can see from the count plot below. We will have to perform undersampling while training the classifier."
      ]
    },
    {
      "cell_type": "code",
      "metadata": {
        "colab": {
          "base_uri": "https://localhost:8080/",
          "height": 350
        },
        "id": "KyU-7HTxV7cO",
        "outputId": "94b3419b-972d-497f-eae1-3d3b7c2898a4"
      },
      "source": [
        "# View the distribution of review type\n",
        "sns.countplot(\"review_type\",data=df)"
      ],
      "execution_count": 8,
      "outputs": [
        {
          "output_type": "stream",
          "text": [
            "/usr/local/lib/python3.7/dist-packages/seaborn/_decorators.py:43: FutureWarning: Pass the following variable as a keyword arg: x. From version 0.12, the only valid positional argument will be `data`, and passing other arguments without an explicit keyword will result in an error or misinterpretation.\n",
            "  FutureWarning\n"
          ],
          "name": "stderr"
        },
        {
          "output_type": "execute_result",
          "data": {
            "text/plain": [
              "<matplotlib.axes._subplots.AxesSubplot at 0x7ff0b1d8b650>"
            ]
          },
          "metadata": {},
          "execution_count": 8
        },
        {
          "output_type": "display_data",
          "data": {
            "image/png": "[encoded data removed]",
            "text/plain": [
              "<Figure size 432x288 with 1 Axes>"
            ]
          },
          "metadata": {
            "needs_background": "light"
          }
        }
      ]
    },
    {
      "cell_type": "code",
      "metadata": {
        "colab": {
          "base_uri": "https://localhost:8080/"
        },
        "id": "ubvvMznCZbb1",
        "outputId": "98389d2d-f0d7-4aa4-dcaf-9f6fa4f8bf96"
      },
      "source": [
        "df.groupby(\"review_type\").count()['review_content']"
      ],
      "execution_count": 172,
      "outputs": [
        {
          "output_type": "execute_result",
          "data": {
            "text/plain": [
              "review_type\n",
              "Fresh     681035\n",
              "Rotten    383176\n",
              "Name: review_content, dtype: int64"
            ]
          },
          "metadata": {},
          "execution_count": 172
        }
      ]
    },
    {
      "cell_type": "markdown",
      "metadata": {
        "id": "cNvUBXoh-95G"
      },
      "source": [
        "## Language Model Creation\n",
        "\n",
        "Before we actually train the classifier for the sentiment analysis. We build a language model by fine-tuning our pre-trained model. This same pre-trained model will be used while fine-tuning our classifier, but we will use the encodings from this language model.\n",
        "\n",
        "The Language model is to build the embeddings on which will help give our model context about the type of language (eg : reviews, news articles, reddit comments) it is being trained on.\n",
        "\n",
        "No Data cleaning to balance out the categories is done on this language model data as we want to only get the understanding of the vocabulary and the embeddings. This also help in predicting the sentences from small phrases but that is a whole another application of this.\n",
        "\n",
        "The training data is tokenized and serialized in the process of using the High Level API of Fast.Ai, it uses the tokenizer from the SpaCy library.\n"
      ]
    },
    {
      "cell_type": "code",
      "metadata": {
        "id": "mNsa4QKK6U2Y",
        "colab": {
          "base_uri": "https://localhost:8080/",
          "height": 70
        },
        "outputId": "3303ef30-e5e7-4a47-8ddb-63115a128cf0"
      },
      "source": [
        "dls_lm=DataBlock(blocks=(TextBlock.from_df('review_content', is_lm=True)),\n",
        "                 get_x=lambda r:r['text']).dataloaders(df, bs=128, seq_len=80)"
      ],
      "execution_count": 37,
      "outputs": [
        {
          "output_type": "display_data",
          "data": {
            "text/html": [
              ""
            ],
            "text/plain": [
              "<IPython.core.display.HTML object>"
            ]
          },
          "metadata": {}
        },
        {
          "output_type": "stream",
          "text": [
            "/usr/local/lib/python3.7/dist-packages/numpy/core/_asarray.py:83: VisibleDeprecationWarning: Creating an ndarray from ragged nested sequences (which is a list-or-tuple of lists-or-tuples-or ndarrays with different lengths or shapes) is deprecated. If you meant to do this, you must specify 'dtype=object' when creating the ndarray\n",
            "  return array(a, dtype, copy=False, order=order)\n"
          ],
          "name": "stderr"
        }
      ]
    },
    {
      "cell_type": "code",
      "metadata": {
        "colab": {
          "base_uri": "https://localhost:8080/",
          "height": 360
        },
        "id": "IyOJ5HS10uBf",
        "outputId": "5c83f49f-ee4f-43aa-d0bc-41af24574d8e"
      },
      "source": [
        "dls_lm.show_batch(max_n=3)"
      ],
      "execution_count": 12,
      "outputs": [
        {
          "output_type": "display_data",
          "data": {
            "text/html": [
              "<table border=\"1\" class=\"dataframe\">\n",
              "  <thead>\n",
              "    <tr style=\"text-align: right;\">\n",
              "      <th></th>\n",
              "      <th>text</th>\n",
              "      <th>text_</th>\n",
              "    </tr>\n",
              "  </thead>\n",
              "  <tbody>\n",
              "    <tr>\n",
              "      <th>0</th>\n",
              "      <td>xxbos xxmaj almost turns human misfortune into a costume parade . xxbos xxmaj without the benefit of historical perspective , xxmaj stone 's docudrama is empathetic , if oversimplified , having been rushed to completion to hit theaters before the xxmaj november election . xxbos xxmaj there 's something intoxicating about a film that manages to be both very violent and very pretty : it is unlike anything xxmaj i 've seen before , and in my book that is</td>\n",
              "      <td>xxmaj almost turns human misfortune into a costume parade . xxbos xxmaj without the benefit of historical perspective , xxmaj stone 's docudrama is empathetic , if oversimplified , having been rushed to completion to hit theaters before the xxmaj november election . xxbos xxmaj there 's something intoxicating about a film that manages to be both very violent and very pretty : it is unlike anything xxmaj i 've seen before , and in my book that is genius</td>\n",
              "    </tr>\n",
              "    <tr>\n",
              "      <th>1</th>\n",
              "      <td>a claustrophobic tale which turns from thriller to horror story by the end . xxmaj only if you ca n't suspend your disbelief will it fail to keep you watching . xxbos a one - joke comedy where the joke wears thin . xxbos xxmaj you 'll be delighted , if a bit breathless from laughing , to be along for the ride . xxbos xxmaj it 's an absolute tour - de - force for star xxmaj mary elizabeth</td>\n",
              "      <td>claustrophobic tale which turns from thriller to horror story by the end . xxmaj only if you ca n't suspend your disbelief will it fail to keep you watching . xxbos a one - joke comedy where the joke wears thin . xxbos xxmaj you 'll be delighted , if a bit breathless from laughing , to be along for the ride . xxbos xxmaj it 's an absolute tour - de - force for star xxmaj mary elizabeth -</td>\n",
              "    </tr>\n",
              "    <tr>\n",
              "      <th>2</th>\n",
              "      <td>not have the weight of ' great xxmaj art ' , but it crystallises youthful disaffection with the verve of the best and brightest pop culture . a sensation . xxbos a stunning look at how the right overcoat can turn a schlemiel into a respected leader . xxbos xxmaj bigelow 's extensive staging of the xxmaj may 1 , 2011 , raid is a prime example of virtuoso action filmmaking . xxbos xxmaj uno sale del cine y se</td>\n",
              "      <td>have the weight of ' great xxmaj art ' , but it crystallises youthful disaffection with the verve of the best and brightest pop culture . a sensation . xxbos a stunning look at how the right overcoat can turn a schlemiel into a respected leader . xxbos xxmaj bigelow 's extensive staging of the xxmaj may 1 , 2011 , raid is a prime example of virtuoso action filmmaking . xxbos xxmaj uno sale del cine y se da</td>\n",
              "    </tr>\n",
              "  </tbody>\n",
              "</table>"
            ],
            "text/plain": [
              "<IPython.core.display.HTML object>"
            ]
          },
          "metadata": {}
        }
      ]
    },
    {
      "cell_type": "markdown",
      "metadata": {
        "id": "Ht8RgY0SAl5q"
      },
      "source": [
        "Language Model training is done here, what we want from this is the encoder that is resulting from it and the vocabulary from the data that we processed before.\n"
      ]
    },
    {
      "cell_type": "code",
      "metadata": {
        "id": "b-Ct7gaHFfiD",
        "colab": {
          "base_uri": "https://localhost:8080/",
          "height": 37
        },
        "outputId": "e2ac4485-0be8-413a-8664-8dcbaaf709cd"
      },
      "source": [
        "learn = language_model_learner(\n",
        "    dls_lm, AWD_LSTM, drop_mult=0.3,\n",
        "    metrics=[accuracy, Perplexity()]).to_fp16()"
      ],
      "execution_count": 55,
      "outputs": [
        {
          "output_type": "display_data",
          "data": {
            "text/html": [
              "\n",
              "    <div>\n",
              "        <style>\n",
              "            /* Turns off some styling */\n",
              "            progress {\n",
              "                /* gets rid of default border in Firefox and Opera. */\n",
              "                border: none;\n",
              "                /* Needs to be in here for Safari polyfill so background images work as expected. */\n",
              "                background-size: auto;\n",
              "            }\n",
              "            .progress-bar-interrupted, .progress-bar-interrupted::-webkit-progress-bar {\n",
              "                background: #F44336;\n",
              "            }\n",
              "        </style>\n",
              "      <progress value='105070592' class='' max='105067061' style='width:300px; height:20px; vertical-align: middle;'></progress>\n",
              "      100.00% [105070592/105067061 00:02<00:00]\n",
              "    </div>\n",
              "    "
            ],
            "text/plain": [
              "<IPython.core.display.HTML object>"
            ]
          },
          "metadata": {}
        }
      ]
    },
    {
      "cell_type": "code",
      "metadata": {
        "colab": {
          "base_uri": "https://localhost:8080/",
          "height": 300
        },
        "id": "e-6zx8dHZR86",
        "outputId": "9e378f45-4496-4191-a462-d26e45d0792b"
      },
      "source": [
        "learn.lr_find()"
      ],
      "execution_count": 56,
      "outputs": [
        {
          "output_type": "display_data",
          "data": {
            "text/html": [
              ""
            ],
            "text/plain": [
              "<IPython.core.display.HTML object>"
            ]
          },
          "metadata": {}
        },
        {
          "output_type": "execute_result",
          "data": {
            "text/plain": [
              "SuggestedLRs(valley=0.0020892962347716093)"
            ]
          },
          "metadata": {},
          "execution_count": 56
        },
        {
          "output_type": "display_data",
          "data": {
            "image/png": "[encoded data removed]",
            "text/plain": [
              "<Figure size 432x288 with 1 Axes>"
            ]
          },
          "metadata": {
            "needs_background": "light"
          }
        }
      ]
    },
    {
      "cell_type": "code",
      "metadata": {
        "colab": {
          "base_uri": "https://localhost:8080/",
          "height": 80
        },
        "id": "2WuO4_P2v-ao",
        "outputId": "18434f9e-09bd-4684-b8ba-b8ccd18bc390"
      },
      "source": [
        "learn.fit_one_cycle(1, 2e-2)"
      ],
      "execution_count": 57,
      "outputs": [
        {
          "output_type": "display_data",
          "data": {
            "text/html": [
              "<table border=\"1\" class=\"dataframe\">\n",
              "  <thead>\n",
              "    <tr style=\"text-align: left;\">\n",
              "      <th>epoch</th>\n",
              "      <th>train_loss</th>\n",
              "      <th>valid_loss</th>\n",
              "      <th>accuracy</th>\n",
              "      <th>perplexity</th>\n",
              "      <th>time</th>\n",
              "    </tr>\n",
              "  </thead>\n",
              "  <tbody>\n",
              "    <tr>\n",
              "      <td>0</td>\n",
              "      <td>3.992908</td>\n",
              "      <td>3.878147</td>\n",
              "      <td>0.346198</td>\n",
              "      <td>48.334564</td>\n",
              "      <td>30:49</td>\n",
              "    </tr>\n",
              "  </tbody>\n",
              "</table>"
            ],
            "text/plain": [
              "<IPython.core.display.HTML object>"
            ]
          },
          "metadata": {}
        }
      ]
    },
    {
      "cell_type": "code",
      "metadata": {
        "colab": {
          "base_uri": "https://localhost:8080/",
          "height": 142
        },
        "id": "EjkPU6wowFqS",
        "outputId": "34f2360b-fef0-46c5-dbd9-a6b9d552c828"
      },
      "source": [
        "learn.unfreeze()\n",
        "learn.fit_one_cycle(3, lr_max=slice(1e-2, 2e-1))"
      ],
      "execution_count": 58,
      "outputs": [
        {
          "output_type": "display_data",
          "data": {
            "text/html": [
              "<table border=\"1\" class=\"dataframe\">\n",
              "  <thead>\n",
              "    <tr style=\"text-align: left;\">\n",
              "      <th>epoch</th>\n",
              "      <th>train_loss</th>\n",
              "      <th>valid_loss</th>\n",
              "      <th>accuracy</th>\n",
              "      <th>perplexity</th>\n",
              "      <th>time</th>\n",
              "    </tr>\n",
              "  </thead>\n",
              "  <tbody>\n",
              "    <tr>\n",
              "      <td>0</td>\n",
              "      <td>4.392606</td>\n",
              "      <td>4.327392</td>\n",
              "      <td>0.313075</td>\n",
              "      <td>75.746490</td>\n",
              "      <td>32:05</td>\n",
              "    </tr>\n",
              "    <tr>\n",
              "      <td>1</td>\n",
              "      <td>4.028554</td>\n",
              "      <td>3.970080</td>\n",
              "      <td>0.344457</td>\n",
              "      <td>52.988777</td>\n",
              "      <td>32:02</td>\n",
              "    </tr>\n",
              "    <tr>\n",
              "      <td>2</td>\n",
              "      <td>3.727988</td>\n",
              "      <td>3.698651</td>\n",
              "      <td>0.369958</td>\n",
              "      <td>40.392761</td>\n",
              "      <td>32:00</td>\n",
              "    </tr>\n",
              "  </tbody>\n",
              "</table>"
            ],
            "text/plain": [
              "<IPython.core.display.HTML object>"
            ]
          },
          "metadata": {}
        }
      ]
    },
    {
      "cell_type": "code",
      "metadata": {
        "id": "NxJJrKGJwL94"
      },
      "source": [
        "# Save the encoder for future use.\n",
        "learn.save_encoder('rt_encoder')"
      ],
      "execution_count": 59,
      "outputs": []
    },
    {
      "cell_type": "markdown",
      "metadata": {
        "id": "QnLYylEJC4_8"
      },
      "source": [
        "## To train the Classifier\n",
        "\n",
        "To train the classifier on this data we first need to balance it using a simple undersampling for now."
      ]
    },
    {
      "cell_type": "code",
      "metadata": {
        "colab": {
          "base_uri": "https://localhost:8080/"
        },
        "id": "MG_OS9YRD0Pq",
        "outputId": "cc1391e4-0418-4787-c3d7-e667bb4476a4"
      },
      "source": [
        "df.review_type.value_counts()"
      ],
      "execution_count": 14,
      "outputs": [
        {
          "output_type": "execute_result",
          "data": {
            "text/plain": [
              "Fresh     681035\n",
              "Rotten    383176\n",
              "Name: review_type, dtype: int64"
            ]
          },
          "metadata": {},
          "execution_count": 14
        }
      ]
    },
    {
      "cell_type": "code",
      "metadata": {
        "id": "FnhwFH5FC4AZ"
      },
      "source": [
        "# Sampling 'Fresh' Reviews equivalent to the number of 'Rotten' reviews\n",
        "df[df['review_type']=='Fresh'].sample(5000)"
      ],
      "execution_count": null,
      "outputs": []
    },
    {
      "cell_type": "code",
      "metadata": {
        "id": "gIoCIHXFD61p"
      },
      "source": [
        "# Picking up all the Rotten reviews\n",
        "df[df.review_type=='Rotten'].sample(5000)"
      ],
      "execution_count": null,
      "outputs": []
    },
    {
      "cell_type": "markdown",
      "metadata": {
        "id": "uRTA3GM4pMzQ"
      },
      "source": [
        "Since the classes are imbalanced we perform undersampling."
      ]
    },
    {
      "cell_type": "code",
      "metadata": {
        "id": "cOlFi8g2ELn6"
      },
      "source": [
        "# number of reviews to perform the classifier training on.\n",
        "n_inputs=40000\n",
        "\n",
        "df_under=pd.concat([df[df.review_type=='Fresh'].sample(n_inputs),df[df.review_type=='Rotten'].sample(n_inputs)])\n",
        "df_under = df_under.sample(frac=1).reset_index(drop=True)"
      ],
      "execution_count": 142,
      "outputs": []
    },
    {
      "cell_type": "code",
      "metadata": {
        "colab": {
          "base_uri": "https://localhost:8080/",
          "height": 321
        },
        "id": "LEmKk92BEnog",
        "outputId": "fd5c2f7e-a092-420a-9de8-c5a9e636cf8a"
      },
      "source": [
        "df_under.head(5)"
      ],
      "execution_count": 143,
      "outputs": [
        {
          "output_type": "execute_result",
          "data": {
            "text/html": [
              "<div>\n",
              "<style scoped>\n",
              "    .dataframe tbody tr th:only-of-type {\n",
              "        vertical-align: middle;\n",
              "    }\n",
              "\n",
              "    .dataframe tbody tr th {\n",
              "        vertical-align: top;\n",
              "    }\n",
              "\n",
              "    .dataframe thead th {\n",
              "        text-align: right;\n",
              "    }\n",
              "</style>\n",
              "<table border=\"1\" class=\"dataframe\">\n",
              "  <thead>\n",
              "    <tr style=\"text-align: right;\">\n",
              "      <th></th>\n",
              "      <th>rotten_tomatoes_link</th>\n",
              "      <th>critic_name</th>\n",
              "      <th>top_critic</th>\n",
              "      <th>publisher_name</th>\n",
              "      <th>review_type</th>\n",
              "      <th>review_score</th>\n",
              "      <th>review_date</th>\n",
              "      <th>review_content</th>\n",
              "    </tr>\n",
              "  </thead>\n",
              "  <tbody>\n",
              "    <tr>\n",
              "      <th>0</th>\n",
              "      <td>m/serenity</td>\n",
              "      <td>Keith H. Brown</td>\n",
              "      <td>False</td>\n",
              "      <td>Eye for Film</td>\n",
              "      <td>Rotten</td>\n",
              "      <td>2.5/5</td>\n",
              "      <td>2008-10-18</td>\n",
              "      <td>In the end you are left with the feeling that Whedon works better on television than in the cinema.</td>\n",
              "    </tr>\n",
              "    <tr>\n",
              "      <th>1</th>\n",
              "      <td>m/squid_and_the_whale</td>\n",
              "      <td>Kimberley Jones</td>\n",
              "      <td>False</td>\n",
              "      <td>Austin Chronicle</td>\n",
              "      <td>Fresh</td>\n",
              "      <td>4/5</td>\n",
              "      <td>2005-12-06</td>\n",
              "      <td>It's the sort of film that's bound to be labeled modest, but it packs a hefty emotional wallop.</td>\n",
              "    </tr>\n",
              "    <tr>\n",
              "      <th>2</th>\n",
              "      <td>m/the_gatekeepers_2012</td>\n",
              "      <td>Joe Morgenstern</td>\n",
              "      <td>True</td>\n",
              "      <td>Wall Street Journal</td>\n",
              "      <td>Fresh</td>\n",
              "      <td>NaN</td>\n",
              "      <td>2013-01-31</td>\n",
              "      <td>The Israeli journalist Dror Moreh has hit a documentarian's trifecta with \"The Gatekeepers.\"</td>\n",
              "    </tr>\n",
              "    <tr>\n",
              "      <th>3</th>\n",
              "      <td>m/the_hustle_2019</td>\n",
              "      <td>Brian Orndorf</td>\n",
              "      <td>False</td>\n",
              "      <td>Blu-ray.com</td>\n",
              "      <td>Rotten</td>\n",
              "      <td>D</td>\n",
              "      <td>2019-05-09</td>\n",
              "      <td>Pure, uninspired recycling.</td>\n",
              "    </tr>\n",
              "    <tr>\n",
              "      <th>4</th>\n",
              "      <td>m/enigma_of_kaspar_hauser</td>\n",
              "      <td>Catherine Shoard</td>\n",
              "      <td>False</td>\n",
              "      <td>Observer (UK)</td>\n",
              "      <td>Fresh</td>\n",
              "      <td>NaN</td>\n",
              "      <td>2013-07-07</td>\n",
              "      <td>A compassionate, traumatic masterpiece, every frame amazing.</td>\n",
              "    </tr>\n",
              "  </tbody>\n",
              "</table>\n",
              "</div>"
            ],
            "text/plain": [
              "        rotten_tomatoes_link  ...                                                                                       review_content\n",
              "0                 m/serenity  ...  In the end you are left with the feeling that Whedon works better on television than in the cinema.\n",
              "1      m/squid_and_the_whale  ...      It's the sort of film that's bound to be labeled modest, but it packs a hefty emotional wallop.\n",
              "2     m/the_gatekeepers_2012  ...         The Israeli journalist Dror Moreh has hit a documentarian's trifecta with \"The Gatekeepers.\"\n",
              "3          m/the_hustle_2019  ...                                                                          Pure, uninspired recycling.\n",
              "4  m/enigma_of_kaspar_hauser  ...                                         A compassionate, traumatic masterpiece, every frame amazing.\n",
              "\n",
              "[5 rows x 8 columns]"
            ]
          },
          "metadata": {},
          "execution_count": 143
        }
      ]
    },
    {
      "cell_type": "code",
      "metadata": {
        "colab": {
          "base_uri": "https://localhost:8080/",
          "height": 350
        },
        "id": "2luvJcXCEsbm",
        "outputId": "eb86b670-6746-4967-9d7a-f1be716b4586"
      },
      "source": [
        "sns.countplot(\"review_type\",data=df_under)"
      ],
      "execution_count": 144,
      "outputs": [
        {
          "output_type": "stream",
          "text": [
            "/usr/local/lib/python3.7/dist-packages/seaborn/_decorators.py:43: FutureWarning: Pass the following variable as a keyword arg: x. From version 0.12, the only valid positional argument will be `data`, and passing other arguments without an explicit keyword will result in an error or misinterpretation.\n",
            "  FutureWarning\n"
          ],
          "name": "stderr"
        },
        {
          "output_type": "execute_result",
          "data": {
            "text/plain": [
              "<matplotlib.axes._subplots.AxesSubplot at 0x7ff04bd27a50>"
            ]
          },
          "metadata": {},
          "execution_count": 144
        },
        {
          "output_type": "display_data",
          "data": {
            "image/png": "[encoded data removed]",
            "text/plain": [
              "<Figure size 432x288 with 1 Axes>"
            ]
          },
          "metadata": {
            "needs_background": "light"
          }
        }
      ]
    },
    {
      "cell_type": "markdown",
      "metadata": {
        "id": "QbdmBjPeRrZs"
      },
      "source": [
        "Since the Fastai classifier runs its own validation and we can just label the columns for the text and class name, we can just have the dataset split up easily using df.sample().\n",
        "\n",
        "But just so that we are able to perform our own external testing on it we are going to split it into a train and test data."
      ]
    },
    {
      "cell_type": "code",
      "metadata": {
        "colab": {
          "base_uri": "https://localhost:8080/"
        },
        "id": "Lz-mTBccNTvI",
        "outputId": "e8ea9e6c-1c0a-4fc9-d8e1-7d969c2e6008"
      },
      "source": [
        "# Splitting it using stratified fold\n",
        "X=df_under[\"review_content\"]\n",
        "y=df_under[\"review_type\"]\n",
        "\n",
        "sss=StratifiedKFold(n_splits=4, random_state=None, shuffle=False)\n",
        "\n",
        "for train_index,test_index in sss.split(X,y):\n",
        "  print(train_index,\"    \",test_index)\n",
        "\n",
        "\n",
        "df_dict={'review':X.iloc[train_index], 'review_type':y.iloc[train_index]}\n",
        "df_under_train=pd.DataFrame(data=df_dict)\n",
        "\n",
        "df_dict={'review':X.iloc[test_index], 'review_type':y.iloc[test_index]}\n",
        "df_under_test=pd.DataFrame(data=df_dict)"
      ],
      "execution_count": 145,
      "outputs": [
        {
          "output_type": "stream",
          "text": [
            "[19787 19788 19789 ... 79997 79998 79999]      [    0     1     2 ... 20224 20228 20230]\n",
            "[    0     1     2 ... 79997 79998 79999]      [19787 19788 19789 ... 40337 40338 40340]\n",
            "[    0     1     2 ... 79997 79998 79999]      [39662 39664 39665 ... 60015 60019 60020]\n",
            "[    0     1     2 ... 60015 60019 60020]      [59972 59974 59976 ... 79997 79998 79999]\n"
          ],
          "name": "stdout"
        }
      ]
    },
    {
      "cell_type": "code",
      "metadata": {
        "colab": {
          "base_uri": "https://localhost:8080/"
        },
        "id": "SrkZmqc4OSuq",
        "outputId": "59acd2eb-2fa1-4437-ec05-7d90a523a1c3"
      },
      "source": [
        "df_under_test.shape, df_under_train.shape"
      ],
      "execution_count": 52,
      "outputs": [
        {
          "output_type": "execute_result",
          "data": {
            "text/plain": [
              "((10000, 2), (30000, 2))"
            ]
          },
          "metadata": {},
          "execution_count": 52
        }
      ]
    },
    {
      "cell_type": "markdown",
      "metadata": {
        "id": "YjwDIlafp-e_"
      },
      "source": [
        "Training the Classifier, we are using the AWD_LSTM model for this."
      ]
    },
    {
      "cell_type": "code",
      "metadata": {
        "colab": {
          "base_uri": "https://localhost:8080/",
          "height": 70
        },
        "id": "i7AsNKqVrM3d",
        "outputId": "bdb2920f-5796-4901-db6a-ae210c6454e0"
      },
      "source": [
        "# In this step we are loading our data to be used for training.\n",
        "dls_clas=DataBlock(blocks=(TextBlock.from_df('review', vocab=dls_lm.vocab),CategoryBlock),\n",
        "                 get_x=lambda r:r['text'],get_y=lambda r:r['review_type']).dataloaders(df_under_train, bs=128, seq_len=80)"
      ],
      "execution_count": 146,
      "outputs": [
        {
          "output_type": "display_data",
          "data": {
            "text/html": [
              ""
            ],
            "text/plain": [
              "<IPython.core.display.HTML object>"
            ]
          },
          "metadata": {}
        },
        {
          "output_type": "stream",
          "text": [
            "/usr/local/lib/python3.7/dist-packages/numpy/core/_asarray.py:83: VisibleDeprecationWarning: Creating an ndarray from ragged nested sequences (which is a list-or-tuple of lists-or-tuples-or ndarrays with different lengths or shapes) is deprecated. If you meant to do this, you must specify 'dtype=object' when creating the ndarray\n",
            "  return array(a, dtype, copy=False, order=order)\n"
          ],
          "name": "stderr"
        }
      ]
    },
    {
      "cell_type": "code",
      "metadata": {
        "colab": {
          "base_uri": "https://localhost:8080/",
          "height": 226
        },
        "id": "IXj9mY6Jr2eg",
        "outputId": "6095b6ae-6d20-4702-bca3-8c7176ea9341"
      },
      "source": [
        "# Show a small batch after the processing of the data.\n",
        "dls_clas.show_batch(max_n=3)\n"
      ],
      "execution_count": 147,
      "outputs": [
        {
          "output_type": "display_data",
          "data": {
            "text/html": [
              "<table border=\"1\" class=\"dataframe\">\n",
              "  <thead>\n",
              "    <tr style=\"text-align: right;\">\n",
              "      <th></th>\n",
              "      <th>text</th>\n",
              "      <th>category</th>\n",
              "    </tr>\n",
              "  </thead>\n",
              "  <tbody>\n",
              "    <tr>\n",
              "      <th>0</th>\n",
              "      <td>xxbos xxmaj i 've never even seen the old xxmaj cary xxmaj grant version , and yet i know that even if it was the worst film of 1948 , it 's still 10 , xxrep 3 0 , xxrep 3 0 , xxrep 3 0 , xxrep 3 0 , xxrep 3 0 , xxrep 3 0 , xxrep 3 0 , xxrep 3 0 times better than xxmaj are xxmaj we xxmaj done xxmaj yet ?</td>\n",
              "      <td>Rotten</td>\n",
              "    </tr>\n",
              "    <tr>\n",
              "      <th>1</th>\n",
              "      <td>xxbos xxmaj imagine this conversation : a phone call between actor xxmaj bob xxmaj de xxmaj niro and director xxmaj marty xxmaj scorsese . xxmaj bobby : xxmaj hello , xxmaj marty . xxmaj i 've been calling and texting , but you never answer . ( silence ) xxmaj bobby : xxmaj i 'm talking to you . xxmaj are you talkin ' to me ? xxmaj are you talkin ' to me ?</td>\n",
              "      <td>Rotten</td>\n",
              "    </tr>\n",
              "    <tr>\n",
              "      <th>2</th>\n",
              "      <td>xxbos xxmaj there are nods to the 1931 xxmaj frankenstein as well as a shout - out of sorts to xxmaj mel xxmaj brooks ' 1974 xxmaj young xxmaj frankenstein ( although , sadly , no one exclaims , \" what knockers ! \" ) . xxmaj there 's also an extended cameo by xxmaj dawn of the xxmaj planet of the xxmaj apes ' scar - faced chimp xxmaj koba .</td>\n",
              "      <td>Rotten</td>\n",
              "    </tr>\n",
              "  </tbody>\n",
              "</table>"
            ],
            "text/plain": [
              "<IPython.core.display.HTML object>"
            ]
          },
          "metadata": {}
        }
      ]
    },
    {
      "cell_type": "code",
      "metadata": {
        "id": "oUv1gw85sayG"
      },
      "source": [
        "# Training our learner\n",
        "learn = text_classifier_learner(dls_clas, AWD_LSTM, drop_mult=0.5, \n",
        "                                metrics=[accuracy,Precision(),Recall(),F1Score()]).to_fp16()"
      ],
      "execution_count": 148,
      "outputs": []
    },
    {
      "cell_type": "code",
      "metadata": {
        "id": "p8BzBtnrsc7Z"
      },
      "source": [
        "learn=learn.load_encoder('encoder_model_lm')"
      ],
      "execution_count": 149,
      "outputs": []
    },
    {
      "cell_type": "code",
      "metadata": {
        "colab": {
          "base_uri": "https://localhost:8080/",
          "height": 80
        },
        "id": "0kPlkfXtskNH",
        "outputId": "42540eed-88ad-42af-8dd2-18452e9df3fb"
      },
      "source": [
        "learn.fit_one_cycle(1, 2e-2)"
      ],
      "execution_count": 150,
      "outputs": [
        {
          "output_type": "display_data",
          "data": {
            "text/html": [
              "<table border=\"1\" class=\"dataframe\">\n",
              "  <thead>\n",
              "    <tr style=\"text-align: left;\">\n",
              "      <th>epoch</th>\n",
              "      <th>train_loss</th>\n",
              "      <th>valid_loss</th>\n",
              "      <th>accuracy</th>\n",
              "      <th>precision_score</th>\n",
              "      <th>recall_score</th>\n",
              "      <th>f1_score</th>\n",
              "      <th>time</th>\n",
              "    </tr>\n",
              "  </thead>\n",
              "  <tbody>\n",
              "    <tr>\n",
              "      <td>0</td>\n",
              "      <td>0.443753</td>\n",
              "      <td>0.399522</td>\n",
              "      <td>0.816250</td>\n",
              "      <td>0.789474</td>\n",
              "      <td>0.868850</td>\n",
              "      <td>0.827262</td>\n",
              "      <td>01:51</td>\n",
              "    </tr>\n",
              "  </tbody>\n",
              "</table>"
            ],
            "text/plain": [
              "<IPython.core.display.HTML object>"
            ]
          },
          "metadata": {}
        }
      ]
    },
    {
      "cell_type": "code",
      "metadata": {
        "colab": {
          "base_uri": "https://localhost:8080/",
          "height": 80
        },
        "id": "JAwn5HADsvGT",
        "outputId": "7258cca5-dd02-48fd-91b9-671e1f538dd7"
      },
      "source": [
        "learn.freeze_to(-2)\n",
        "learn.fit_one_cycle(1, slice(1e-2/(2.6**4),1e-2))"
      ],
      "execution_count": 151,
      "outputs": [
        {
          "output_type": "display_data",
          "data": {
            "text/html": [
              "<table border=\"1\" class=\"dataframe\">\n",
              "  <thead>\n",
              "    <tr style=\"text-align: left;\">\n",
              "      <th>epoch</th>\n",
              "      <th>train_loss</th>\n",
              "      <th>valid_loss</th>\n",
              "      <th>accuracy</th>\n",
              "      <th>precision_score</th>\n",
              "      <th>recall_score</th>\n",
              "      <th>f1_score</th>\n",
              "      <th>time</th>\n",
              "    </tr>\n",
              "  </thead>\n",
              "  <tbody>\n",
              "    <tr>\n",
              "      <td>0</td>\n",
              "      <td>0.404439</td>\n",
              "      <td>0.360373</td>\n",
              "      <td>0.840583</td>\n",
              "      <td>0.821098</td>\n",
              "      <td>0.876090</td>\n",
              "      <td>0.847703</td>\n",
              "      <td>01:56</td>\n",
              "    </tr>\n",
              "  </tbody>\n",
              "</table>"
            ],
            "text/plain": [
              "<IPython.core.display.HTML object>"
            ]
          },
          "metadata": {}
        }
      ]
    },
    {
      "cell_type": "code",
      "metadata": {
        "colab": {
          "base_uri": "https://localhost:8080/",
          "height": 110
        },
        "id": "qAGfDyfutbeC",
        "outputId": "03a66ca7-017e-44e1-c74c-96607532bb66"
      },
      "source": [
        "learn.unfreeze()\n",
        "learn.fit_one_cycle(2, slice(1e-3/(2.6**4),1e-3))"
      ],
      "execution_count": 152,
      "outputs": [
        {
          "output_type": "display_data",
          "data": {
            "text/html": [
              "<table border=\"1\" class=\"dataframe\">\n",
              "  <thead>\n",
              "    <tr style=\"text-align: left;\">\n",
              "      <th>epoch</th>\n",
              "      <th>train_loss</th>\n",
              "      <th>valid_loss</th>\n",
              "      <th>accuracy</th>\n",
              "      <th>precision_score</th>\n",
              "      <th>recall_score</th>\n",
              "      <th>f1_score</th>\n",
              "      <th>time</th>\n",
              "    </tr>\n",
              "  </thead>\n",
              "  <tbody>\n",
              "    <tr>\n",
              "      <td>0</td>\n",
              "      <td>0.380307</td>\n",
              "      <td>0.350948</td>\n",
              "      <td>0.844500</td>\n",
              "      <td>0.826080</td>\n",
              "      <td>0.877736</td>\n",
              "      <td>0.851125</td>\n",
              "      <td>03:04</td>\n",
              "    </tr>\n",
              "    <tr>\n",
              "      <td>1</td>\n",
              "      <td>0.371826</td>\n",
              "      <td>0.347662</td>\n",
              "      <td>0.847833</td>\n",
              "      <td>0.840352</td>\n",
              "      <td>0.863584</td>\n",
              "      <td>0.851810</td>\n",
              "      <td>03:04</td>\n",
              "    </tr>\n",
              "  </tbody>\n",
              "</table>"
            ],
            "text/plain": [
              "<IPython.core.display.HTML object>"
            ]
          },
          "metadata": {}
        }
      ]
    },
    {
      "cell_type": "code",
      "metadata": {
        "colab": {
          "base_uri": "https://localhost:8080/",
          "height": 110
        },
        "id": "BjIo7wy0zmxG",
        "outputId": "28cec93a-2865-4b1c-9adf-47f66ed8f9d0"
      },
      "source": [
        "learn.fit_one_cycle(2, slice(1e-3/(2.6**4),1e-3))"
      ],
      "execution_count": 153,
      "outputs": [
        {
          "output_type": "display_data",
          "data": {
            "text/html": [
              "<table border=\"1\" class=\"dataframe\">\n",
              "  <thead>\n",
              "    <tr style=\"text-align: left;\">\n",
              "      <th>epoch</th>\n",
              "      <th>train_loss</th>\n",
              "      <th>valid_loss</th>\n",
              "      <th>accuracy</th>\n",
              "      <th>precision_score</th>\n",
              "      <th>recall_score</th>\n",
              "      <th>f1_score</th>\n",
              "      <th>time</th>\n",
              "    </tr>\n",
              "  </thead>\n",
              "  <tbody>\n",
              "    <tr>\n",
              "      <td>0</td>\n",
              "      <td>0.359925</td>\n",
              "      <td>0.343773</td>\n",
              "      <td>0.849167</td>\n",
              "      <td>0.838705</td>\n",
              "      <td>0.869343</td>\n",
              "      <td>0.853749</td>\n",
              "      <td>03:05</td>\n",
              "    </tr>\n",
              "    <tr>\n",
              "      <td>1</td>\n",
              "      <td>0.347868</td>\n",
              "      <td>0.342354</td>\n",
              "      <td>0.849417</td>\n",
              "      <td>0.827354</td>\n",
              "      <td>0.887938</td>\n",
              "      <td>0.856576</td>\n",
              "      <td>03:05</td>\n",
              "    </tr>\n",
              "  </tbody>\n",
              "</table>"
            ],
            "text/plain": [
              "<IPython.core.display.HTML object>"
            ]
          },
          "metadata": {}
        }
      ]
    },
    {
      "cell_type": "code",
      "metadata": {
        "colab": {
          "base_uri": "https://localhost:8080/"
        },
        "id": "RLigxWkcu377",
        "outputId": "262246b6-1ba3-455e-bfbc-5100e6e58232"
      },
      "source": [
        "learn.save(\"model\")"
      ],
      "execution_count": 154,
      "outputs": [
        {
          "output_type": "execute_result",
          "data": {
            "text/plain": [
              "Path('models/model.pth')"
            ]
          },
          "metadata": {},
          "execution_count": 154
        }
      ]
    },
    {
      "cell_type": "markdown",
      "metadata": {
        "id": "0K9jk1UzqZqh"
      },
      "source": [
        "##### See some outputs from the learner #####"
      ]
    },
    {
      "cell_type": "code",
      "metadata": {
        "colab": {
          "base_uri": "https://localhost:8080/",
          "height": 34
        },
        "id": "Cu7AdLkEz5su",
        "outputId": "468667cf-16b3-462a-8753-5ddf1ef89fca"
      },
      "source": [
        "learn.predict(\"Dreadful rich people make for brilliant TV, but it is rare to see their privileges and prejudices skewered with such relentless precision. White's characters can be monstrous, but they are so carefully wrought that they also feel painfully human.\")"
      ],
      "execution_count": 155,
      "outputs": [
        {
          "output_type": "display_data",
          "data": {
            "text/html": [
              ""
            ],
            "text/plain": [
              "<IPython.core.display.HTML object>"
            ]
          },
          "metadata": {}
        },
        {
          "output_type": "execute_result",
          "data": {
            "text/plain": [
              "('Fresh', tensor(0), tensor([0.7575, 0.2425]))"
            ]
          },
          "metadata": {},
          "execution_count": 155
        }
      ]
    },
    {
      "cell_type": "code",
      "metadata": {
        "colab": {
          "base_uri": "https://localhost:8080/",
          "height": 34
        },
        "id": "ao8tl6DeXCHs",
        "outputId": "5415d030-4f6f-4911-e814-d92eee4f57be"
      },
      "source": [
        "learn.predict(\"Wow! That was painful. Waiting for something of substance to happen and it never came. Such a waste.\")"
      ],
      "execution_count": 156,
      "outputs": [
        {
          "output_type": "display_data",
          "data": {
            "text/html": [
              ""
            ],
            "text/plain": [
              "<IPython.core.display.HTML object>"
            ]
          },
          "metadata": {}
        },
        {
          "output_type": "execute_result",
          "data": {
            "text/plain": [
              "('Rotten', tensor(1), tensor([0.0762, 0.9238]))"
            ]
          },
          "metadata": {},
          "execution_count": 156
        }
      ]
    },
    {
      "cell_type": "code",
      "metadata": {
        "colab": {
          "base_uri": "https://localhost:8080/",
          "height": 34
        },
        "id": "N94Lua-NXLJ0",
        "outputId": "13e85876-7c17-479f-b4e0-dd1cadcf9136"
      },
      "source": [
        "learn.predict(\"Watching Bartlett as Armond navigate their demands is often very, very funny; it's a sublime performance, playing against an ensemble of famous and instantly recognisable faces.\")"
      ],
      "execution_count": 157,
      "outputs": [
        {
          "output_type": "display_data",
          "data": {
            "text/html": [
              ""
            ],
            "text/plain": [
              "<IPython.core.display.HTML object>"
            ]
          },
          "metadata": {}
        },
        {
          "output_type": "execute_result",
          "data": {
            "text/plain": [
              "('Fresh', tensor(0), tensor([0.9786, 0.0214]))"
            ]
          },
          "metadata": {},
          "execution_count": 157
        }
      ]
    },
    {
      "cell_type": "code",
      "metadata": {
        "colab": {
          "base_uri": "https://localhost:8080/",
          "height": 17
        },
        "id": "JtbwVatKjkRE",
        "outputId": "ffc83235-0c1c-4361-82e3-99d171c8d53f"
      },
      "source": [
        "intrep_class=ClassificationInterpretation.from_learner(learn)"
      ],
      "execution_count": 161,
      "outputs": [
        {
          "output_type": "display_data",
          "data": {
            "text/html": [
              ""
            ],
            "text/plain": [
              "<IPython.core.display.HTML object>"
            ]
          },
          "metadata": {}
        }
      ]
    },
    {
      "cell_type": "markdown",
      "metadata": {
        "id": "qRUpDP0r0VfO"
      },
      "source": [
        "After training our model, the classification report shows us some interesting things.\n",
        "\n",
        "1. We have an 85 % Accuracy for the binary classification.\n",
        "\n",
        "2. We see only an 81% recall rate, which tells us that a lot of fresh reviews are being tagged as Rotten.\n",
        "\n",
        "3. But when looking at the Precision it is nearly 89%. Which tells us that not a lot of Rotten reviews are being tagged as Fresh.\n",
        "\n",
        "4. This difference most probably suggests, in our context, that the model is not able to catch the cases where language is not so straight forward. \n",
        "\n",
        "5. We will investigate it further by pulling up high loss results."
      ]
    },
    {
      "cell_type": "code",
      "metadata": {
        "colab": {
          "base_uri": "https://localhost:8080/",
          "height": 311
        },
        "id": "wA3__wD1kEEQ",
        "outputId": "93383aa7-1a9f-4059-96c2-83945e615396"
      },
      "source": [
        "intrep_class.plot_confusion_matrix()"
      ],
      "execution_count": 165,
      "outputs": [
        {
          "output_type": "display_data",
          "data": {
            "image/png": "[encoded data removed]",
            "text/plain": [
              "<Figure size 432x288 with 1 Axes>"
            ]
          },
          "metadata": {
            "needs_background": "light"
          }
        }
      ]
    },
    {
      "cell_type": "code",
      "metadata": {
        "colab": {
          "base_uri": "https://localhost:8080/"
        },
        "id": "my_DNDNTn5BU",
        "outputId": "85ab96dc-0ab1-4312-cadf-1099bcfc09c2"
      },
      "source": [
        "intrep_class.print_classification_report()"
      ],
      "execution_count": 167,
      "outputs": [
        {
          "output_type": "stream",
          "text": [
            "              precision    recall  f1-score   support\n",
            "\n",
            "       Fresh       0.88      0.81      0.84      5923\n",
            "      Rotten       0.83      0.89      0.86      6077\n",
            "\n",
            "    accuracy                           0.85     12000\n",
            "   macro avg       0.85      0.85      0.85     12000\n",
            "weighted avg       0.85      0.85      0.85     12000\n",
            "\n"
          ],
          "name": "stdout"
        }
      ]
    },
    {
      "cell_type": "markdown",
      "metadata": {
        "id": "WiUAkVAkzGoq"
      },
      "source": [
        "We can also see some of the top mistakes that our classifier made.\n",
        "\n",
        "After reading a few of these reviews, a few thing to notice:\n",
        "\n",
        "1. When the reviews are midway lets say at 60%, the drawbacks of the movies stated incline the probability of the result to Rotten, even though the score would suggest it to be Fresh.\n",
        "\n",
        "2. Language used in a sarcastic way is often misunderstood."
      ]
    },
    {
      "cell_type": "code",
      "metadata": {
        "colab": {
          "base_uri": "https://localhost:8080/",
          "height": 934
        },
        "id": "7fivzuoqj9Gk",
        "outputId": "654598b5-e0a2-4749-fe0b-dc0983408f1b"
      },
      "source": [
        "intrep_class.plot_top_losses(20)"
      ],
      "execution_count": 173,
      "outputs": [
        {
          "output_type": "display_data",
          "data": {
            "text/html": [
              "<table border=\"1\" class=\"dataframe\">\n",
              "  <thead>\n",
              "    <tr style=\"text-align: right;\">\n",
              "      <th></th>\n",
              "      <th>input</th>\n",
              "      <th>target</th>\n",
              "      <th>predicted</th>\n",
              "      <th>probability</th>\n",
              "      <th>loss</th>\n",
              "    </tr>\n",
              "  </thead>\n",
              "  <tbody>\n",
              "    <tr>\n",
              "      <th>0</th>\n",
              "      <td>xxbos a fun , off - beat little horror film</td>\n",
              "      <td>Rotten</td>\n",
              "      <td>Fresh</td>\n",
              "      <td>0.9997147917747498</td>\n",
              "      <td>8.162394523620605</td>\n",
              "    </tr>\n",
              "    <tr>\n",
              "      <th>1</th>\n",
              "      <td>xxbos xxmaj too bad the dazzling ' eye candy ' technology was wasted on such a trivial pursuit .</td>\n",
              "      <td>Fresh</td>\n",
              "      <td>Rotten</td>\n",
              "      <td>0.9969306588172913</td>\n",
              "      <td>5.7862772941589355</td>\n",
              "    </tr>\n",
              "    <tr>\n",
              "      <th>2</th>\n",
              "      <td>xxbos xxmaj under - tens are unlikely to be the only ones wondering what 's going on ; the story is an over - brainstormed botch job .</td>\n",
              "      <td>Fresh</td>\n",
              "      <td>Rotten</td>\n",
              "      <td>0.9949396848678589</td>\n",
              "      <td>5.286323070526123</td>\n",
              "    </tr>\n",
              "    <tr>\n",
              "      <th>3</th>\n",
              "      <td>xxbos xxmaj it 's spectacular -- and spectacularly nasty .</td>\n",
              "      <td>Rotten</td>\n",
              "      <td>Fresh</td>\n",
              "      <td>0.9944342970848083</td>\n",
              "      <td>5.191128253936768</td>\n",
              "    </tr>\n",
              "    <tr>\n",
              "      <th>4</th>\n",
              "      <td>xxbos xxmaj there 's a lot to like about xxmaj perks , but i just could n't shake the feeling that much like its main character , this movie is little more than an empty shell .</td>\n",
              "      <td>Fresh</td>\n",
              "      <td>Rotten</td>\n",
              "      <td>0.993320107460022</td>\n",
              "      <td>5.008655548095703</td>\n",
              "    </tr>\n",
              "    <tr>\n",
              "      <th>5</th>\n",
              "      <td>xxbos xxmaj if you can overlook the stereotypes ( which i fear many xxmaj americans wo n't even notice as such ) , xxmaj traitor provides an entertaining evening at the movies .</td>\n",
              "      <td>Rotten</td>\n",
              "      <td>Fresh</td>\n",
              "      <td>0.9928231239318848</td>\n",
              "      <td>4.936890125274658</td>\n",
              "    </tr>\n",
              "    <tr>\n",
              "      <th>6</th>\n",
              "      <td>xxbos xxmaj fantastic film for tweens , bearable film for the rest of us</td>\n",
              "      <td>Rotten</td>\n",
              "      <td>Fresh</td>\n",
              "      <td>0.9910666346549988</td>\n",
              "      <td>4.717957973480225</td>\n",
              "    </tr>\n",
              "    <tr>\n",
              "      <th>7</th>\n",
              "      <td>xxbos xxmaj negligible budget and poor framing and crap in the film gate and shots that go in and out of focus and all , \" multiple xxmaj maniacs \" is a helluva movie .</td>\n",
              "      <td>Fresh</td>\n",
              "      <td>Rotten</td>\n",
              "      <td>0.9904775619506836</td>\n",
              "      <td>4.654099464416504</td>\n",
              "    </tr>\n",
              "    <tr>\n",
              "      <th>8</th>\n",
              "      <td>xxbos xxmaj ice xxmaj cube is the best thing about the movie , but he has to work hard to overcome the inadequacies of this dreadful screenplay .</td>\n",
              "      <td>Fresh</td>\n",
              "      <td>Rotten</td>\n",
              "      <td>0.9899086952209473</td>\n",
              "      <td>4.596080303192139</td>\n",
              "    </tr>\n",
              "    <tr>\n",
              "      <th>9</th>\n",
              "      <td>xxbos a little repetitive at times , but it 's an interesting way to review a period in history - through the music .</td>\n",
              "      <td>Rotten</td>\n",
              "      <td>Fresh</td>\n",
              "      <td>0.9895108342170715</td>\n",
              "      <td>4.557419776916504</td>\n",
              "    </tr>\n",
              "    <tr>\n",
              "      <th>10</th>\n",
              "      <td>xxbos xxmaj this has no aspirations to be anything more than a throwaway 89 minutes of slapstick silliness .</td>\n",
              "      <td>Fresh</td>\n",
              "      <td>Rotten</td>\n",
              "      <td>0.9893269538879395</td>\n",
              "      <td>4.540027141571045</td>\n",
              "    </tr>\n",
              "    <tr>\n",
              "      <th>11</th>\n",
              "      <td>xxbos xxmaj the only thing driving the story forward is the strength of xxmaj michael xxup b. xxmaj jordan , xxmaj tessa xxmaj thompson , and xxmaj sylvester xxmaj stallone 's performances , but they 're nearly lost in a sea of missed opportunities .</td>\n",
              "      <td>Fresh</td>\n",
              "      <td>Rotten</td>\n",
              "      <td>0.9882221817970276</td>\n",
              "      <td>4.441534996032715</td>\n",
              "    </tr>\n",
              "    <tr>\n",
              "      <th>12</th>\n",
              "      <td>xxbos i xxmaj think xxmaj we 're xxmaj alone xxmaj now sadly does n't include the xxmaj tiffany track we all associate with that title , a misstep i hope xxmaj morano corrects at some point .</td>\n",
              "      <td>Fresh</td>\n",
              "      <td>Rotten</td>\n",
              "      <td>0.9876876473426819</td>\n",
              "      <td>4.397154331207275</td>\n",
              "    </tr>\n",
              "    <tr>\n",
              "      <th>13</th>\n",
              "      <td>xxbos xxmaj jason xxmaj sudeikis completes his 2011 dude - comedy trilogy with a xxmaj good xxmaj old xxmaj fashioned xxmaj orgy , a genial film of good old - fashioned humorlessness .</td>\n",
              "      <td>Rotten</td>\n",
              "      <td>Fresh</td>\n",
              "      <td>0.9872649908065796</td>\n",
              "      <td>4.363402843475342</td>\n",
              "    </tr>\n",
              "    <tr>\n",
              "      <th>14</th>\n",
              "      <td>xxbos xxmaj combs has a hilariously deadpan delivery that will leave you in fits of giggles and proves to be a tremendous contrast to xxmaj abbott 's more seductive performance .</td>\n",
              "      <td>Rotten</td>\n",
              "      <td>Fresh</td>\n",
              "      <td>0.9862046241760254</td>\n",
              "      <td>4.283422470092773</td>\n",
              "    </tr>\n",
              "    <tr>\n",
              "      <th>15</th>\n",
              "      <td>xxbos xxmaj almost wholly inessential .</td>\n",
              "      <td>Fresh</td>\n",
              "      <td>Rotten</td>\n",
              "      <td>0.9859634041786194</td>\n",
              "      <td>4.266088962554932</td>\n",
              "    </tr>\n",
              "    <tr>\n",
              "      <th>16</th>\n",
              "      <td>xxbos xxmaj infinity xxmaj wars just does n't have a lot of style to call its own</td>\n",
              "      <td>Fresh</td>\n",
              "      <td>Rotten</td>\n",
              "      <td>0.9853278994560242</td>\n",
              "      <td>4.2218122482299805</td>\n",
              "    </tr>\n",
              "    <tr>\n",
              "      <th>17</th>\n",
              "      <td>xxbos xxmaj the film struggles to find a satisfying conclusion to such an interesting set - up , and the disappointing finale xxmaj barinholtz settles on has the frustrating effect of muting the film 's arguments .</td>\n",
              "      <td>Fresh</td>\n",
              "      <td>Rotten</td>\n",
              "      <td>0.984941840171814</td>\n",
              "      <td>4.195836544036865</td>\n",
              "    </tr>\n",
              "    <tr>\n",
              "      <th>18</th>\n",
              "      <td>xxbos xxmaj polanski 's evident desire to elicit understated , naturalistic performances from his cast also underplays the poetry of the play …</td>\n",
              "      <td>Rotten</td>\n",
              "      <td>Fresh</td>\n",
              "      <td>0.9843062162399292</td>\n",
              "      <td>4.154489994049072</td>\n",
              "    </tr>\n",
              "    <tr>\n",
              "      <th>19</th>\n",
              "      <td>xxbos a solid xxmaj summer movie with some glorious set pieces , but with so many subplots in play it struggles to form a cohesive whole</td>\n",
              "      <td>Fresh</td>\n",
              "      <td>Rotten</td>\n",
              "      <td>0.9833269715309143</td>\n",
              "      <td>4.0939621925354</td>\n",
              "    </tr>\n",
              "  </tbody>\n",
              "</table>"
            ],
            "text/plain": [
              "<IPython.core.display.HTML object>"
            ]
          },
          "metadata": {}
        }
      ]
    }
  ]
}